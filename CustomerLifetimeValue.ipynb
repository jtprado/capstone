{
 "cells": [
  {
   "cell_type": "code",
   "execution_count": null,
   "metadata": {},
   "outputs": [],
   "source": [
    "%matplotlib inline\n",
    "import warnings\n",
    "warnings.filterwarnings('ignore')\n",
    "\n",
    "import pandas as pd\n",
    "import matplotlib.pyplot as plt\n",
    "import matplotlib.ticker as mtick # For specifying the axes tick format \n",
    "import numpy as np\n",
    "import seaborn as sns\n",
    "from sklearn.preprocessing import MinMaxScaler, StandardScaler\n",
    "from sklearn.cluster import KMeans\n",
    "from mpl_toolkits.mplot3d import Axes3D\n",
    "import plotly.graph_objects as go\n",
    "\n",
    "plt.style.use('ggplot')"
   ]
  },
  {
   "cell_type": "code",
   "execution_count": null,
   "metadata": {},
   "outputs": [],
   "source": [
    "df = pd.read_csv('rfm_merged_df.csv')"
   ]
  },
  {
   "cell_type": "code",
   "execution_count": null,
   "metadata": {},
   "outputs": [],
   "source": [
    "# repeat rate = customer with at least 2 transactions / total customers number\n",
    "\n",
    "# count the number of transactions for each customer_id\n",
    "transaction_counts = rfm_merged_df.groupby('customer_id')['transaction_id'].nunique()\n",
    "\n",
    "# determine which customers have at least 2 transactions\n",
    "customer_two_trans = transaction_counts[transaction_counts >= 2].count()\n",
    "\n",
    "# total number of customers\n",
    "total_customers = rfm_merged_df['customer_id'].nunique()\n",
    "\n",
    "# repeat rate\n",
    "repeat_rate  = customer_two_trans / total_customers\n",
    "\n",
    "print(\"Repeat rate:\", repeat_rate)"
   ]
  },
  {
   "cell_type": "code",
   "execution_count": null,
   "metadata": {},
   "outputs": [],
   "source": [
    "# churn rate = 1 - repat_rate\n",
    "\n",
    "churn_rate = 1 - repeat_rate\n",
    "churn_rate"
   ]
  },
  {
   "cell_type": "code",
   "execution_count": null,
   "metadata": {},
   "outputs": [],
   "source": [
    "# average customer lifespan (ACL) = 1 / churn rate\n",
    "\n",
    "acl = 1 / churn_rate\n",
    "acl"
   ]
  },
  {
   "cell_type": "code",
   "execution_count": null,
   "metadata": {},
   "outputs": [],
   "source": [
    "# average purchase frequency (APF) = total number of purchases / total customers number\n",
    "\n",
    "total_purchases = rfm_merged_df['transaction_id'].nunique()\n",
    "\n",
    "apf = total_purchases / total_customers\n",
    "apf"
   ]
  },
  {
   "cell_type": "code",
   "execution_count": null,
   "metadata": {},
   "outputs": [],
   "source": [
    "# Avg. Purchase Value (APV) = Total Revenue / Total Number of Purchases\n",
    "\n",
    "total_revenue = rfm_merged_df['sales_amount'].sum()\n",
    "\n",
    "apv = total_revenue / total_purchases\n",
    "apv"
   ]
  },
  {
   "cell_type": "code",
   "execution_count": null,
   "metadata": {},
   "outputs": [],
   "source": [
    "# customer lifetime value (CLV) = Avg. Purchase Value * Avg. Purchase Frequency * Avg. Customer Lifespan\n",
    "\n",
    "clv = apv * apf * acl\n",
    "clv"
   ]
  },
  {
   "cell_type": "code",
   "execution_count": null,
   "metadata": {},
   "outputs": [],
   "source": [
    "# Initialize a DataFrame to hold the average customer lifespan for each cluster\n",
    "cluster_lifespan_data = []\n",
    "\n",
    "# Calculate ACL for each cluster\n",
    "for cluster in rfm_merged_df['cluster'].unique():\n",
    "    # Subset the data for the current cluster\n",
    "    cluster_data = rfm_merged_df[rfm_merged_df['cluster'] == cluster]\n",
    "\n",
    "    # Count the number of transactions for each customer within the cluster\n",
    "    transaction_counts = cluster_data.groupby('customer_id')['transaction_id'].nunique()\n",
    "\n",
    "    # Determine customers with at least 2 transactions within the cluster\n",
    "    customer_two_trans = transaction_counts[transaction_counts >= 2].count()\n",
    "\n",
    "    # Total number of customers within the cluster\n",
    "    total_customers = cluster_data['customer_id'].nunique()\n",
    "\n",
    "    # Repeat rate for the cluster\n",
    "    repeat_rate = customer_two_trans / total_customers\n",
    "\n",
    "    # Churn rate for the cluster\n",
    "    churn_rate = 1 - repeat_rate\n",
    "\n",
    "    # Average Customer Lifespan (ACL) for the cluster\n",
    "    acl = 1 / churn_rate if churn_rate != 0 else np.nan\n",
    "\n",
    "    # Append the ACL to the DataFrame\n",
    "    cluster_lifespan = cluster_lifespan_data.append({\n",
    "        'Cluster': cluster,\n",
    "        'ACL': acl\n",
    "    })\n",
    "\n",
    "# Convert the list of dictionaries to a DataFrame\n",
    "cluster_lifespan_df = pd.DataFrame(cluster_lifespan_data)"
   ]
  },
  {
   "cell_type": "code",
   "execution_count": null,
   "metadata": {},
   "outputs": [],
   "source": []
  },
  {
   "cell_type": "code",
   "execution_count": null,
   "metadata": {},
   "outputs": [],
   "source": []
  }
 ],
 "metadata": {
  "kernelspec": {
   "display_name": "Python 3 (ipykernel)",
   "language": "python",
   "name": "python3"
  },
  "language_info": {
   "codemirror_mode": {
    "name": "ipython",
    "version": 3
   },
   "file_extension": ".py",
   "mimetype": "text/x-python",
   "name": "python",
   "nbconvert_exporter": "python",
   "pygments_lexer": "ipython3",
   "version": "3.10.13"
  }
 },
 "nbformat": 4,
 "nbformat_minor": 4
}
