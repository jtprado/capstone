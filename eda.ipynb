{
 "cells": [
  {
   "cell_type": "markdown",
   "id": "e09f4ecf",
   "metadata": {},
   "source": [
    "## Importing Necessary Libraries"
   ]
  },
  {
   "cell_type": "code",
   "execution_count": 1,
   "id": "f1976a64-e8a5-401c-9b73-46cf85296755",
   "metadata": {},
   "outputs": [],
   "source": [
    "%matplotlib inline\n",
    "import warnings\n",
    "warnings.filterwarnings('ignore')\n",
    "\n",
    "import pandas as pd\n",
    "import matplotlib.pyplot as plt\n",
    "import matplotlib.ticker as mtick # For specifying the axes tick format \n",
    "import numpy as np\n",
    "import seaborn as sns\n",
    "from sklearn.preprocessing import MinMaxScaler, StandardScaler\n",
    "from sklearn.cluster import KMeans\n",
    "from mpl_toolkits.mplot3d import Axes3D\n",
    "\n",
    "plt.style.use('ggplot')"
   ]
  },
  {
   "cell_type": "markdown",
   "id": "af295496-090d-447f-8276-382bc00e6858",
   "metadata": {},
   "source": [
    "## Initial Data Analysis"
   ]
  },
  {
   "cell_type": "code",
   "execution_count": 2,
   "id": "3900e6e8",
   "metadata": {},
   "outputs": [],
   "source": [
    "# Importing the original files\n",
    "\n",
    "customers = pd.read_excel('/home/joao/code/capstone/data/Customers.xlsx')\n",
    "orders = pd.read_excel('/home/joao/code/capstone/data/Orders.xlsx')"
   ]
  },
  {
   "cell_type": "code",
   "execution_count": 3,
   "id": "43e30694",
   "metadata": {},
   "outputs": [
    {
     "name": "stdout",
     "output_type": "stream",
     "text": [
      "<class 'pandas.core.frame.DataFrame'>\n",
      "RangeIndex: 22625 entries, 0 to 22624\n",
      "Data columns (total 4 columns):\n",
      " #   Column       Non-Null Count  Dtype \n",
      "---  ------       --------------  ----- \n",
      " 0   Customer_ID  22625 non-null  int64 \n",
      " 1   GENDER       22625 non-null  object\n",
      " 2   AGE          22625 non-null  int64 \n",
      " 3   GEOGRAPHY    22625 non-null  object\n",
      "dtypes: int64(2), object(2)\n",
      "memory usage: 707.2+ KB\n"
     ]
    }
   ],
   "source": [
    "customers.info()"
   ]
  },
  {
   "cell_type": "code",
   "execution_count": 4,
   "id": "8878a229",
   "metadata": {},
   "outputs": [
    {
     "name": "stdout",
     "output_type": "stream",
     "text": [
      "<class 'pandas.core.frame.DataFrame'>\n",
      "RangeIndex: 131706 entries, 0 to 131705\n",
      "Data columns (total 8 columns):\n",
      " #   Column          Non-Null Count   Dtype         \n",
      "---  ------          --------------   -----         \n",
      " 0   id              131706 non-null  int64         \n",
      " 1   Date            131706 non-null  datetime64[ns]\n",
      " 2   Customer_ID     131706 non-null  int64         \n",
      " 3   Transaction_ID  131706 non-null  int64         \n",
      " 4   SKU_Category    131706 non-null  object        \n",
      " 5   SKU             131706 non-null  object        \n",
      " 6   Quantity        131706 non-null  float64       \n",
      " 7   Sales_Amount    131706 non-null  float64       \n",
      "dtypes: datetime64[ns](1), float64(2), int64(3), object(2)\n",
      "memory usage: 8.0+ MB\n"
     ]
    }
   ],
   "source": [
    "orders.info()"
   ]
  },
  {
   "cell_type": "code",
   "execution_count": 5,
   "id": "a795ce6e",
   "metadata": {},
   "outputs": [],
   "source": [
    "# Cleaning the dataset before merging\n",
    "\n",
    "customers = customers.rename(columns={\n",
    "    'Customer_ID':'customer_id',\n",
    "    'GENDER':'gender',\n",
    "    'AGE':'age',\n",
    "    'GEOGRAPHY':'country'\n",
    "})\n",
    "\n",
    "orders = orders.rename(columns= {\n",
    "    'Date':'date',\n",
    "    'Customer_ID':'customer_id',\n",
    "    'Transaction_ID':'transaction_id',\n",
    "    'SKU_Category':'sku_category',\n",
    "    'SKU':'sku',\n",
    "    'Quantity':'quantity',\n",
    "    'Sales_Amount':'sales_amount'\n",
    "})"
   ]
  },
  {
   "cell_type": "code",
   "execution_count": 6,
   "id": "06d82ed7",
   "metadata": {},
   "outputs": [
    {
     "data": {
      "text/plain": [
       "(Index(['id', 'date', 'customer_id', 'transaction_id', 'sku_category', 'sku',\n",
       "        'quantity', 'sales_amount'],\n",
       "       dtype='object'),\n",
       " Index(['customer_id', 'gender', 'age', 'country'], dtype='object'))"
      ]
     },
     "execution_count": 6,
     "metadata": {},
     "output_type": "execute_result"
    }
   ],
   "source": [
    "orders.columns, customers.columns"
   ]
  },
  {
   "cell_type": "code",
   "execution_count": 7,
   "id": "200962e4",
   "metadata": {},
   "outputs": [
    {
     "name": "stdout",
     "output_type": "stream",
     "text": [
      "<class 'pandas.core.frame.DataFrame'>\n",
      "RangeIndex: 131706 entries, 0 to 131705\n",
      "Data columns (total 11 columns):\n",
      " #   Column          Non-Null Count   Dtype         \n",
      "---  ------          --------------   -----         \n",
      " 0   id              131706 non-null  int64         \n",
      " 1   date            131706 non-null  datetime64[ns]\n",
      " 2   customer_id     131706 non-null  int64         \n",
      " 3   transaction_id  131706 non-null  int64         \n",
      " 4   sku_category    131706 non-null  object        \n",
      " 5   sku             131706 non-null  object        \n",
      " 6   quantity        131706 non-null  float64       \n",
      " 7   sales_amount    131706 non-null  float64       \n",
      " 8   gender          131706 non-null  object        \n",
      " 9   age             131706 non-null  int64         \n",
      " 10  country         131706 non-null  object        \n",
      "dtypes: datetime64[ns](1), float64(2), int64(4), object(4)\n",
      "memory usage: 11.1+ MB\n"
     ]
    }
   ],
   "source": [
    "# Merging the two DataFrames on 'customer_id'\n",
    "merged_df = pd.merge(orders, customers, on='customer_id', how='inner')\n",
    "\n",
    "# Display the first few rows of the merged DataFrame\n",
    "merged_df.info()\n"
   ]
  },
  {
   "cell_type": "markdown",
   "id": "e549d66d",
   "metadata": {},
   "source": [
    "### Data cleaning and transformation"
   ]
  },
  {
   "cell_type": "code",
   "execution_count": 8,
   "id": "00cbc8f8",
   "metadata": {},
   "outputs": [],
   "source": [
    "# Function for cleaning the new merged_df \n",
    "def process_data(df):\n",
    "    df = df.replace({\n",
    "        \"gender\": {'M': 1, 'F': 0}})\n",
    "    df['date'] = pd.to_datetime(df['date'])\n",
    "    df['quantity'] = df['quantity'].astype(int)\n",
    "    df['sales_amount'] = df['sales_amount'].astype(int)\n",
    "    return df"
   ]
  },
  {
   "cell_type": "code",
   "execution_count": 9,
   "id": "f8f295cc-c666-4164-a1ef-0ade8fcf11a1",
   "metadata": {},
   "outputs": [
    {
     "data": {
      "text/html": [
       "<div>\n",
       "<style scoped>\n",
       "    .dataframe tbody tr th:only-of-type {\n",
       "        vertical-align: middle;\n",
       "    }\n",
       "\n",
       "    .dataframe tbody tr th {\n",
       "        vertical-align: top;\n",
       "    }\n",
       "\n",
       "    .dataframe thead th {\n",
       "        text-align: right;\n",
       "    }\n",
       "</style>\n",
       "<table border=\"1\" class=\"dataframe\">\n",
       "  <thead>\n",
       "    <tr style=\"text-align: right;\">\n",
       "      <th></th>\n",
       "      <th>id</th>\n",
       "      <th>date</th>\n",
       "      <th>customer_id</th>\n",
       "      <th>transaction_id</th>\n",
       "      <th>sku_category</th>\n",
       "      <th>sku</th>\n",
       "      <th>quantity</th>\n",
       "      <th>sales_amount</th>\n",
       "      <th>gender</th>\n",
       "      <th>age</th>\n",
       "      <th>country</th>\n",
       "    </tr>\n",
       "  </thead>\n",
       "  <tbody>\n",
       "    <tr>\n",
       "      <th>0</th>\n",
       "      <td>1</td>\n",
       "      <td>2021-01-02</td>\n",
       "      <td>2547</td>\n",
       "      <td>1</td>\n",
       "      <td>X52</td>\n",
       "      <td>0EM7L</td>\n",
       "      <td>1</td>\n",
       "      <td>3</td>\n",
       "      <td>1</td>\n",
       "      <td>43</td>\n",
       "      <td>Greece</td>\n",
       "    </tr>\n",
       "    <tr>\n",
       "      <th>1</th>\n",
       "      <td>639</td>\n",
       "      <td>2021-01-04</td>\n",
       "      <td>2547</td>\n",
       "      <td>332</td>\n",
       "      <td>Q4N</td>\n",
       "      <td>MM3E0</td>\n",
       "      <td>1</td>\n",
       "      <td>12</td>\n",
       "      <td>1</td>\n",
       "      <td>43</td>\n",
       "      <td>Greece</td>\n",
       "    </tr>\n",
       "    <tr>\n",
       "      <th>2</th>\n",
       "      <td>7800</td>\n",
       "      <td>2021-01-25</td>\n",
       "      <td>2547</td>\n",
       "      <td>3743</td>\n",
       "      <td>X52</td>\n",
       "      <td>885U7</td>\n",
       "      <td>1</td>\n",
       "      <td>4</td>\n",
       "      <td>1</td>\n",
       "      <td>43</td>\n",
       "      <td>Greece</td>\n",
       "    </tr>\n",
       "    <tr>\n",
       "      <th>3</th>\n",
       "      <td>7801</td>\n",
       "      <td>2021-01-25</td>\n",
       "      <td>2547</td>\n",
       "      <td>3743</td>\n",
       "      <td>29A</td>\n",
       "      <td>A59HR</td>\n",
       "      <td>3</td>\n",
       "      <td>6</td>\n",
       "      <td>1</td>\n",
       "      <td>43</td>\n",
       "      <td>Greece</td>\n",
       "    </tr>\n",
       "    <tr>\n",
       "      <th>4</th>\n",
       "      <td>17633</td>\n",
       "      <td>2021-02-22</td>\n",
       "      <td>2547</td>\n",
       "      <td>8477</td>\n",
       "      <td>L9F</td>\n",
       "      <td>7W8WS</td>\n",
       "      <td>1</td>\n",
       "      <td>11</td>\n",
       "      <td>1</td>\n",
       "      <td>43</td>\n",
       "      <td>Greece</td>\n",
       "    </tr>\n",
       "  </tbody>\n",
       "</table>\n",
       "</div>"
      ],
      "text/plain": [
       "      id       date  customer_id  transaction_id sku_category    sku  \\\n",
       "0      1 2021-01-02         2547               1          X52  0EM7L   \n",
       "1    639 2021-01-04         2547             332          Q4N  MM3E0   \n",
       "2   7800 2021-01-25         2547            3743          X52  885U7   \n",
       "3   7801 2021-01-25         2547            3743          29A  A59HR   \n",
       "4  17633 2021-02-22         2547            8477          L9F  7W8WS   \n",
       "\n",
       "   quantity  sales_amount  gender  age country  \n",
       "0         1             3       1   43  Greece  \n",
       "1         1            12       1   43  Greece  \n",
       "2         1             4       1   43  Greece  \n",
       "3         3             6       1   43  Greece  \n",
       "4         1            11       1   43  Greece  "
      ]
     },
     "execution_count": 9,
     "metadata": {},
     "output_type": "execute_result"
    }
   ],
   "source": [
    "df = pd.read_csv('merged_df.csv')\n",
    "df = process_data(df)\n",
    "df.head(5)"
   ]
  },
  {
   "cell_type": "code",
   "execution_count": 10,
   "id": "e0b7a035",
   "metadata": {},
   "outputs": [],
   "source": [
    "# Droping the 'id' column as it is not used for the analysis\n",
    "df = df.drop(columns='id', axis=1)"
   ]
  },
  {
   "cell_type": "code",
   "execution_count": 11,
   "id": "ede87c82",
   "metadata": {},
   "outputs": [
    {
     "name": "stdout",
     "output_type": "stream",
     "text": [
      "<class 'pandas.core.frame.DataFrame'>\n",
      "RangeIndex: 131706 entries, 0 to 131705\n",
      "Data columns (total 10 columns):\n",
      " #   Column          Non-Null Count   Dtype         \n",
      "---  ------          --------------   -----         \n",
      " 0   date            131706 non-null  datetime64[ns]\n",
      " 1   customer_id     131706 non-null  int64         \n",
      " 2   transaction_id  131706 non-null  int64         \n",
      " 3   sku_category    131706 non-null  object        \n",
      " 4   sku             131706 non-null  object        \n",
      " 5   quantity        131706 non-null  int64         \n",
      " 6   sales_amount    131706 non-null  int64         \n",
      " 7   gender          131706 non-null  int64         \n",
      " 8   age             131706 non-null  int64         \n",
      " 9   country         131706 non-null  object        \n",
      "dtypes: datetime64[ns](1), int64(6), object(3)\n",
      "memory usage: 10.0+ MB\n"
     ]
    }
   ],
   "source": [
    "df.info()"
   ]
  },
  {
   "cell_type": "markdown",
   "id": "232baecf",
   "metadata": {},
   "source": [
    "## Time series analaysis"
   ]
  },
  {
   "cell_type": "code",
   "execution_count": null,
   "id": "45211f03",
   "metadata": {},
   "outputs": [],
   "source": [
    "# Aggregating sales_amount by date for total sales over time\n",
    "total_sales_over_time = df.groupby('date').agg({'sales_amount': 'sum'}).reset_index()\n",
    "\n",
    "# Displaying the first few rows of the aggregated data\n",
    "total_sales_over_time.head()\n"
   ]
  },
  {
   "cell_type": "markdown",
   "id": "12ede6be",
   "metadata": {},
   "source": [
    "# Customer Segmentation"
   ]
  },
  {
   "cell_type": "markdown",
   "id": "6d5a1e41",
   "metadata": {},
   "source": [
    "## RFM"
   ]
  },
  {
   "cell_type": "markdown",
   "id": "5a623019",
   "metadata": {},
   "source": [
    "Recency (R): How recently a customer has made a purchase. We can calculate this by finding the number of days since a customer's last purchase.\n",
    "\n",
    "Frequency (F): How often a customer makes a purchase. We can calculate this by counting the number of transactions each customer has made.\n",
    "\n",
    "Monetary (M): How much money a customer has spent. We can calculate this by summing up the sales amount for each customer.\n"
   ]
  },
  {
   "cell_type": "code",
   "execution_count": 12,
   "id": "9d375d3e",
   "metadata": {},
   "outputs": [],
   "source": [
    "# Determine the most recent date in the dataset for recency calculation\n",
    "most_recent_date = df['date'].max() + pd.Timedelta(days=1)\n",
    "\n",
    "# Calculate RFM metrics\n",
    "rfm = df.groupby('customer_id').agg({\n",
    "    'date': lambda x: (most_recent_date - x.max()).days,  # Recency (days since last purchase)\n",
    "    'transaction_id': 'nunique',  # Frequency (total number of transactions)\n",
    "    'sales_amount': 'sum'  # Monetary (total amount of money spent)\n",
    "}).rename(columns={'date': 'recency', 'transaction_id': 'frequency', 'sales_amount': 'monetary'})"
   ]
  },
  {
   "cell_type": "code",
   "execution_count": 14,
   "id": "c087092a",
   "metadata": {},
   "outputs": [
    {
     "data": {
      "text/html": [
       "<div>\n",
       "<style scoped>\n",
       "    .dataframe tbody tr th:only-of-type {\n",
       "        vertical-align: middle;\n",
       "    }\n",
       "\n",
       "    .dataframe tbody tr th {\n",
       "        vertical-align: top;\n",
       "    }\n",
       "\n",
       "    .dataframe thead th {\n",
       "        text-align: right;\n",
       "    }\n",
       "</style>\n",
       "<table border=\"1\" class=\"dataframe\">\n",
       "  <thead>\n",
       "    <tr style=\"text-align: right;\">\n",
       "      <th></th>\n",
       "      <th>customer_id</th>\n",
       "      <th>recency</th>\n",
       "      <th>frequency</th>\n",
       "      <th>monetary</th>\n",
       "    </tr>\n",
       "  </thead>\n",
       "  <tbody>\n",
       "    <tr>\n",
       "      <th>0</th>\n",
       "      <td>1</td>\n",
       "      <td>344</td>\n",
       "      <td>1</td>\n",
       "      <td>15</td>\n",
       "    </tr>\n",
       "    <tr>\n",
       "      <th>1</th>\n",
       "      <td>2</td>\n",
       "      <td>196</td>\n",
       "      <td>2</td>\n",
       "      <td>22</td>\n",
       "    </tr>\n",
       "    <tr>\n",
       "      <th>2</th>\n",
       "      <td>3</td>\n",
       "      <td>364</td>\n",
       "      <td>1</td>\n",
       "      <td>10</td>\n",
       "    </tr>\n",
       "    <tr>\n",
       "      <th>3</th>\n",
       "      <td>4</td>\n",
       "      <td>53</td>\n",
       "      <td>2</td>\n",
       "      <td>31</td>\n",
       "    </tr>\n",
       "    <tr>\n",
       "      <th>4</th>\n",
       "      <td>5</td>\n",
       "      <td>180</td>\n",
       "      <td>5</td>\n",
       "      <td>78</td>\n",
       "    </tr>\n",
       "    <tr>\n",
       "      <th>...</th>\n",
       "      <td>...</td>\n",
       "      <td>...</td>\n",
       "      <td>...</td>\n",
       "      <td>...</td>\n",
       "    </tr>\n",
       "    <tr>\n",
       "      <th>22620</th>\n",
       "      <td>22621</td>\n",
       "      <td>22</td>\n",
       "      <td>1</td>\n",
       "      <td>9</td>\n",
       "    </tr>\n",
       "    <tr>\n",
       "      <th>22621</th>\n",
       "      <td>22622</td>\n",
       "      <td>16</td>\n",
       "      <td>1</td>\n",
       "      <td>6</td>\n",
       "    </tr>\n",
       "    <tr>\n",
       "      <th>22622</th>\n",
       "      <td>22623</td>\n",
       "      <td>11</td>\n",
       "      <td>1</td>\n",
       "      <td>127</td>\n",
       "    </tr>\n",
       "    <tr>\n",
       "      <th>22623</th>\n",
       "      <td>22624</td>\n",
       "      <td>30</td>\n",
       "      <td>1</td>\n",
       "      <td>18</td>\n",
       "    </tr>\n",
       "    <tr>\n",
       "      <th>22624</th>\n",
       "      <td>22625</td>\n",
       "      <td>1</td>\n",
       "      <td>4</td>\n",
       "      <td>79</td>\n",
       "    </tr>\n",
       "  </tbody>\n",
       "</table>\n",
       "<p>22625 rows × 4 columns</p>\n",
       "</div>"
      ],
      "text/plain": [
       "       customer_id  recency  frequency  monetary\n",
       "0                1      344          1        15\n",
       "1                2      196          2        22\n",
       "2                3      364          1        10\n",
       "3                4       53          2        31\n",
       "4                5      180          5        78\n",
       "...            ...      ...        ...       ...\n",
       "22620        22621       22          1         9\n",
       "22621        22622       16          1         6\n",
       "22622        22623       11          1       127\n",
       "22623        22624       30          1        18\n",
       "22624        22625        1          4        79\n",
       "\n",
       "[22625 rows x 4 columns]"
      ]
     },
     "execution_count": 14,
     "metadata": {},
     "output_type": "execute_result"
    }
   ],
   "source": [
    "rfm = rfm.reset_index()\n",
    "rfm"
   ]
  },
  {
   "cell_type": "code",
   "execution_count": 15,
   "id": "ca942428",
   "metadata": {},
   "outputs": [],
   "source": [
    "# Calculate quartiles for RFM metrics\n",
    "quartiles = rfm.quantile(q=[0.25, 0.5, 0.75])\n",
    "quartiles = quartiles.to_dict()"
   ]
  },
  {
   "cell_type": "code",
   "execution_count": 16,
   "id": "dce7833d",
   "metadata": {},
   "outputs": [],
   "source": [
    "# Functions to assign scores to Recency, Frequency, and Monetary\n",
    "def r_score(x, p, d):\n",
    "    if x <= d[p][0.25]:\n",
    "        return 4\n",
    "    elif x <= d[p][0.50]:\n",
    "        return 3\n",
    "    elif x <= d[p][0.75]:\n",
    "        return 2\n",
    "    else:\n",
    "        return 1\n",
    "\n",
    "def fm_score(x, p, d):\n",
    "    if x <= d[p][0.25]:\n",
    "        return 1\n",
    "    elif x <= d[p][0.50]:\n",
    "        return 2\n",
    "    elif x <= d[p][0.75]:\n",
    "        return 3\n",
    "    else:\n",
    "        return 4\n",
    "\n",
    "# Assigning scores\n",
    "rfm['r_score'] = rfm['recency'].apply(r_score, args=('recency', quartiles))\n",
    "rfm['f_score'] = rfm['frequency'].apply(fm_score, args=('frequency', quartiles))\n",
    "rfm['m_score'] = rfm['monetary'].apply(fm_score, args=('monetary', quartiles))\n",
    "\n",
    "# Combining scores to create RFM Segment\n",
    "rfm['rfm_segment'] = rfm['r_score'].map(str) + rfm['f_score'].map(str) + rfm['m_score'].map(str)"
   ]
  },
  {
   "cell_type": "code",
   "execution_count": 17,
   "id": "3ff51992",
   "metadata": {},
   "outputs": [],
   "source": [
    "# Calculating average values for RFM metrics in each segment\n",
    "segment_analysis = rfm.groupby('rfm_segment').agg({\n",
    "    'recency': 'mean',\n",
    "    'frequency': 'mean',\n",
    "    'monetary': ['mean', 'count']\n",
    "}).reset_index()\n",
    "\n",
    "segment_analysis.columns = ['rfm_segment',\n",
    "                            'average_recency',\n",
    "                            'average_frequency',\n",
    "                            'average_monetary',\n",
    "                            'count']"
   ]
  },
  {
   "cell_type": "code",
   "execution_count": 18,
   "id": "da4e67ac",
   "metadata": {},
   "outputs": [],
   "source": [
    "# Analyzing the size of each segment\n",
    "segment_size = rfm['rfm_segment'].value_counts().reset_index()\n",
    "segment_size.columns = ['rfm_segment', 'size']"
   ]
  },
  {
   "cell_type": "code",
   "execution_count": 34,
   "id": "21dc9854",
   "metadata": {},
   "outputs": [
    {
     "data": {
      "text/html": [
       "<div>\n",
       "<style scoped>\n",
       "    .dataframe tbody tr th:only-of-type {\n",
       "        vertical-align: middle;\n",
       "    }\n",
       "\n",
       "    .dataframe tbody tr th {\n",
       "        vertical-align: top;\n",
       "    }\n",
       "\n",
       "    .dataframe thead th {\n",
       "        text-align: right;\n",
       "    }\n",
       "</style>\n",
       "<table border=\"1\" class=\"dataframe\">\n",
       "  <thead>\n",
       "    <tr style=\"text-align: right;\">\n",
       "      <th></th>\n",
       "      <th>rfm_segment</th>\n",
       "      <th>average_recency</th>\n",
       "      <th>average_frequency</th>\n",
       "      <th>average_monetary</th>\n",
       "      <th>count</th>\n",
       "    </tr>\n",
       "  </thead>\n",
       "  <tbody>\n",
       "    <tr>\n",
       "      <th>0</th>\n",
       "      <td>111</td>\n",
       "      <td>319.114504</td>\n",
       "      <td>1.00000</td>\n",
       "      <td>5.331767</td>\n",
       "      <td>1703</td>\n",
       "    </tr>\n",
       "    <tr>\n",
       "      <th>1</th>\n",
       "      <td>112</td>\n",
       "      <td>318.795473</td>\n",
       "      <td>1.00000</td>\n",
       "      <td>14.447858</td>\n",
       "      <td>1237</td>\n",
       "    </tr>\n",
       "    <tr>\n",
       "      <th>2</th>\n",
       "      <td>113</td>\n",
       "      <td>320.589695</td>\n",
       "      <td>1.00000</td>\n",
       "      <td>35.568702</td>\n",
       "      <td>524</td>\n",
       "    </tr>\n",
       "    <tr>\n",
       "      <th>3</th>\n",
       "      <td>114</td>\n",
       "      <td>319.058824</td>\n",
       "      <td>1.00000</td>\n",
       "      <td>119.960784</td>\n",
       "      <td>204</td>\n",
       "    </tr>\n",
       "    <tr>\n",
       "      <th>4</th>\n",
       "      <td>131</td>\n",
       "      <td>309.044944</td>\n",
       "      <td>2.05618</td>\n",
       "      <td>6.898876</td>\n",
       "      <td>89</td>\n",
       "    </tr>\n",
       "  </tbody>\n",
       "</table>\n",
       "</div>"
      ],
      "text/plain": [
       "  rfm_segment  average_recency  average_frequency  average_monetary  count\n",
       "0         111       319.114504            1.00000          5.331767   1703\n",
       "1         112       318.795473            1.00000         14.447858   1237\n",
       "2         113       320.589695            1.00000         35.568702    524\n",
       "3         114       319.058824            1.00000        119.960784    204\n",
       "4         131       309.044944            2.05618          6.898876     89"
      ]
     },
     "execution_count": 34,
     "metadata": {},
     "output_type": "execute_result"
    }
   ],
   "source": [
    "segment_analysis.head()"
   ]
  },
  {
   "cell_type": "code",
   "execution_count": 21,
   "id": "624015e9",
   "metadata": {},
   "outputs": [
    {
     "data": {
      "text/html": [
       "<div>\n",
       "<style scoped>\n",
       "    .dataframe tbody tr th:only-of-type {\n",
       "        vertical-align: middle;\n",
       "    }\n",
       "\n",
       "    .dataframe tbody tr th {\n",
       "        vertical-align: top;\n",
       "    }\n",
       "\n",
       "    .dataframe thead th {\n",
       "        text-align: right;\n",
       "    }\n",
       "</style>\n",
       "<table border=\"1\" class=\"dataframe\">\n",
       "  <thead>\n",
       "    <tr style=\"text-align: right;\">\n",
       "      <th></th>\n",
       "      <th>customer_id</th>\n",
       "      <th>recency</th>\n",
       "      <th>frequency</th>\n",
       "      <th>monetary</th>\n",
       "      <th>r_score</th>\n",
       "      <th>f_score</th>\n",
       "      <th>m_score</th>\n",
       "    </tr>\n",
       "  </thead>\n",
       "  <tbody>\n",
       "    <tr>\n",
       "      <th>count</th>\n",
       "      <td>22625.000000</td>\n",
       "      <td>22625.000000</td>\n",
       "      <td>22625.000000</td>\n",
       "      <td>22625.000000</td>\n",
       "      <td>22625.000000</td>\n",
       "      <td>22625.000000</td>\n",
       "      <td>22625.000000</td>\n",
       "    </tr>\n",
       "    <tr>\n",
       "      <th>mean</th>\n",
       "      <td>11313.000000</td>\n",
       "      <td>161.957878</td>\n",
       "      <td>2.858873</td>\n",
       "      <td>66.967867</td>\n",
       "      <td>2.502851</td>\n",
       "      <td>2.192575</td>\n",
       "      <td>2.494453</td>\n",
       "    </tr>\n",
       "    <tr>\n",
       "      <th>std</th>\n",
       "      <td>6531.419256</td>\n",
       "      <td>115.718072</td>\n",
       "      <td>4.000157</td>\n",
       "      <td>148.212099</td>\n",
       "      <td>1.119852</td>\n",
       "      <td>1.264798</td>\n",
       "      <td>1.119566</td>\n",
       "    </tr>\n",
       "    <tr>\n",
       "      <th>min</th>\n",
       "      <td>1.000000</td>\n",
       "      <td>1.000000</td>\n",
       "      <td>1.000000</td>\n",
       "      <td>0.000000</td>\n",
       "      <td>1.000000</td>\n",
       "      <td>1.000000</td>\n",
       "      <td>1.000000</td>\n",
       "    </tr>\n",
       "    <tr>\n",
       "      <th>25%</th>\n",
       "      <td>5657.000000</td>\n",
       "      <td>48.000000</td>\n",
       "      <td>1.000000</td>\n",
       "      <td>9.000000</td>\n",
       "      <td>2.000000</td>\n",
       "      <td>1.000000</td>\n",
       "      <td>1.000000</td>\n",
       "    </tr>\n",
       "    <tr>\n",
       "      <th>50%</th>\n",
       "      <td>11313.000000</td>\n",
       "      <td>150.000000</td>\n",
       "      <td>1.000000</td>\n",
       "      <td>22.000000</td>\n",
       "      <td>3.000000</td>\n",
       "      <td>1.000000</td>\n",
       "      <td>2.000000</td>\n",
       "    </tr>\n",
       "    <tr>\n",
       "      <th>75%</th>\n",
       "      <td>16969.000000</td>\n",
       "      <td>272.000000</td>\n",
       "      <td>3.000000</td>\n",
       "      <td>60.000000</td>\n",
       "      <td>4.000000</td>\n",
       "      <td>3.000000</td>\n",
       "      <td>3.000000</td>\n",
       "    </tr>\n",
       "    <tr>\n",
       "      <th>max</th>\n",
       "      <td>22625.000000</td>\n",
       "      <td>364.000000</td>\n",
       "      <td>99.000000</td>\n",
       "      <td>3920.000000</td>\n",
       "      <td>4.000000</td>\n",
       "      <td>4.000000</td>\n",
       "      <td>4.000000</td>\n",
       "    </tr>\n",
       "  </tbody>\n",
       "</table>\n",
       "</div>"
      ],
      "text/plain": [
       "        customer_id       recency     frequency      monetary       r_score  \\\n",
       "count  22625.000000  22625.000000  22625.000000  22625.000000  22625.000000   \n",
       "mean   11313.000000    161.957878      2.858873     66.967867      2.502851   \n",
       "std     6531.419256    115.718072      4.000157    148.212099      1.119852   \n",
       "min        1.000000      1.000000      1.000000      0.000000      1.000000   \n",
       "25%     5657.000000     48.000000      1.000000      9.000000      2.000000   \n",
       "50%    11313.000000    150.000000      1.000000     22.000000      3.000000   \n",
       "75%    16969.000000    272.000000      3.000000     60.000000      4.000000   \n",
       "max    22625.000000    364.000000     99.000000   3920.000000      4.000000   \n",
       "\n",
       "            f_score       m_score  \n",
       "count  22625.000000  22625.000000  \n",
       "mean       2.192575      2.494453  \n",
       "std        1.264798      1.119566  \n",
       "min        1.000000      1.000000  \n",
       "25%        1.000000      1.000000  \n",
       "50%        1.000000      2.000000  \n",
       "75%        3.000000      3.000000  \n",
       "max        4.000000      4.000000  "
      ]
     },
     "execution_count": 21,
     "metadata": {},
     "output_type": "execute_result"
    }
   ],
   "source": [
    "rfm.describe()"
   ]
  },
  {
   "cell_type": "code",
   "execution_count": 22,
   "id": "71d95b5c",
   "metadata": {},
   "outputs": [
    {
     "data": {
      "text/html": [
       "<div>\n",
       "<style scoped>\n",
       "    .dataframe tbody tr th:only-of-type {\n",
       "        vertical-align: middle;\n",
       "    }\n",
       "\n",
       "    .dataframe tbody tr th {\n",
       "        vertical-align: top;\n",
       "    }\n",
       "\n",
       "    .dataframe thead th {\n",
       "        text-align: right;\n",
       "    }\n",
       "</style>\n",
       "<table border=\"1\" class=\"dataframe\">\n",
       "  <thead>\n",
       "    <tr style=\"text-align: right;\">\n",
       "      <th></th>\n",
       "      <th>average_recency</th>\n",
       "      <th>average_frequency</th>\n",
       "      <th>average_monetary</th>\n",
       "      <th>count</th>\n",
       "    </tr>\n",
       "  </thead>\n",
       "  <tbody>\n",
       "    <tr>\n",
       "      <th>count</th>\n",
       "      <td>48.000000</td>\n",
       "      <td>48.000000</td>\n",
       "      <td>48.000000</td>\n",
       "      <td>48.000000</td>\n",
       "    </tr>\n",
       "    <tr>\n",
       "      <th>mean</th>\n",
       "      <td>160.656080</td>\n",
       "      <td>2.870013</td>\n",
       "      <td>54.117504</td>\n",
       "      <td>471.354167</td>\n",
       "    </tr>\n",
       "    <tr>\n",
       "      <th>std</th>\n",
       "      <td>111.232367</td>\n",
       "      <td>2.084268</td>\n",
       "      <td>66.264045</td>\n",
       "      <td>471.320891</td>\n",
       "    </tr>\n",
       "    <tr>\n",
       "      <th>min</th>\n",
       "      <td>18.568084</td>\n",
       "      <td>1.000000</td>\n",
       "      <td>5.256347</td>\n",
       "      <td>1.000000</td>\n",
       "    </tr>\n",
       "    <tr>\n",
       "      <th>25%</th>\n",
       "      <td>72.298658</td>\n",
       "      <td>1.000000</td>\n",
       "      <td>13.085893</td>\n",
       "      <td>125.750000</td>\n",
       "    </tr>\n",
       "    <tr>\n",
       "      <th>50%</th>\n",
       "      <td>134.000000</td>\n",
       "      <td>2.285048</td>\n",
       "      <td>26.551396</td>\n",
       "      <td>378.000000</td>\n",
       "    </tr>\n",
       "    <tr>\n",
       "      <th>75%</th>\n",
       "      <td>250.150181</td>\n",
       "      <td>4.170455</td>\n",
       "      <td>58.782652</td>\n",
       "      <td>600.000000</td>\n",
       "    </tr>\n",
       "    <tr>\n",
       "      <th>max</th>\n",
       "      <td>320.589695</td>\n",
       "      <td>10.899188</td>\n",
       "      <td>305.318204</td>\n",
       "      <td>2093.000000</td>\n",
       "    </tr>\n",
       "  </tbody>\n",
       "</table>\n",
       "</div>"
      ],
      "text/plain": [
       "       average_recency  average_frequency  average_monetary        count\n",
       "count        48.000000          48.000000         48.000000    48.000000\n",
       "mean        160.656080           2.870013         54.117504   471.354167\n",
       "std         111.232367           2.084268         66.264045   471.320891\n",
       "min          18.568084           1.000000          5.256347     1.000000\n",
       "25%          72.298658           1.000000         13.085893   125.750000\n",
       "50%         134.000000           2.285048         26.551396   378.000000\n",
       "75%         250.150181           4.170455         58.782652   600.000000\n",
       "max         320.589695          10.899188        305.318204  2093.000000"
      ]
     },
     "execution_count": 22,
     "metadata": {},
     "output_type": "execute_result"
    }
   ],
   "source": [
    "segment_analysis.describe()"
   ]
  },
  {
   "cell_type": "markdown",
   "id": "18a4c91a",
   "metadata": {},
   "source": [
    "## K-Means"
   ]
  },
  {
   "cell_type": "code",
   "execution_count": 23,
   "id": "68f322c7",
   "metadata": {},
   "outputs": [
    {
     "data": {
      "image/png": "[encoded data removed]",
      "text/plain": [
       "<Figure size 1000x500 with 1 Axes>"
      ]
     },
     "metadata": {},
     "output_type": "display_data"
    }
   ],
   "source": [
    "# Normalize the data\n",
    "scaler = StandardScaler()\n",
    "rfm_normalized = scaler.fit_transform(rfm[['recency', 'frequency', 'monetary']])\n",
    "\n",
    "# Elbow Method to find the optimal number of clusters\n",
    "wcss = []\n",
    "for i in range(1, 11):\n",
    "    kmeans = KMeans(n_clusters=i, init='k-means++', random_state=42)\n",
    "    kmeans.fit(rfm_normalized)\n",
    "    wcss.append(kmeans.inertia_)\n",
    "\n",
    "# Plotting the Elbow Method graph\n",
    "plt.figure(figsize=(10, 5))\n",
    "plt.plot(range(1, 11), wcss, marker='o')\n",
    "plt.title('Elbow Method')\n",
    "plt.xlabel('Number of clusters')\n",
    "plt.ylabel('WCSS')\n",
    "plt.show()"
   ]
  },
  {
   "cell_type": "code",
   "execution_count": 24,
   "id": "f6999c23",
   "metadata": {},
   "outputs": [],
   "source": [
    "optimal_number_of_clusters = 3\n",
    "\n",
    "# Fit K-means to the RFM data\n",
    "kmeans = KMeans(n_clusters=optimal_number_of_clusters, init='k-means++', random_state=42)\n",
    "rfm['cluster'] = kmeans.fit_predict(rfm_normalized)"
   ]
  },
  {
   "cell_type": "code",
   "execution_count": 27,
   "id": "5d20d32f",
   "metadata": {},
   "outputs": [
    {
     "data": {
      "text/html": [
       "<div>\n",
       "<style scoped>\n",
       "    .dataframe tbody tr th:only-of-type {\n",
       "        vertical-align: middle;\n",
       "    }\n",
       "\n",
       "    .dataframe tbody tr th {\n",
       "        vertical-align: top;\n",
       "    }\n",
       "\n",
       "    .dataframe thead th {\n",
       "        text-align: right;\n",
       "    }\n",
       "</style>\n",
       "<table border=\"1\" class=\"dataframe\">\n",
       "  <thead>\n",
       "    <tr style=\"text-align: right;\">\n",
       "      <th></th>\n",
       "      <th>customer_id</th>\n",
       "      <th>recency</th>\n",
       "      <th>frequency</th>\n",
       "      <th>monetary</th>\n",
       "      <th>r_score</th>\n",
       "      <th>f_score</th>\n",
       "      <th>m_score</th>\n",
       "      <th>rfm_segment</th>\n",
       "      <th>cluster</th>\n",
       "    </tr>\n",
       "  </thead>\n",
       "  <tbody>\n",
       "    <tr>\n",
       "      <th>0</th>\n",
       "      <td>1</td>\n",
       "      <td>344</td>\n",
       "      <td>1</td>\n",
       "      <td>15</td>\n",
       "      <td>1</td>\n",
       "      <td>1</td>\n",
       "      <td>2</td>\n",
       "      <td>112</td>\n",
       "      <td>2</td>\n",
       "    </tr>\n",
       "    <tr>\n",
       "      <th>1</th>\n",
       "      <td>2</td>\n",
       "      <td>196</td>\n",
       "      <td>2</td>\n",
       "      <td>22</td>\n",
       "      <td>2</td>\n",
       "      <td>3</td>\n",
       "      <td>2</td>\n",
       "      <td>232</td>\n",
       "      <td>2</td>\n",
       "    </tr>\n",
       "    <tr>\n",
       "      <th>2</th>\n",
       "      <td>3</td>\n",
       "      <td>364</td>\n",
       "      <td>1</td>\n",
       "      <td>10</td>\n",
       "      <td>1</td>\n",
       "      <td>1</td>\n",
       "      <td>2</td>\n",
       "      <td>112</td>\n",
       "      <td>2</td>\n",
       "    </tr>\n",
       "    <tr>\n",
       "      <th>3</th>\n",
       "      <td>4</td>\n",
       "      <td>53</td>\n",
       "      <td>2</td>\n",
       "      <td>31</td>\n",
       "      <td>3</td>\n",
       "      <td>3</td>\n",
       "      <td>3</td>\n",
       "      <td>333</td>\n",
       "      <td>0</td>\n",
       "    </tr>\n",
       "    <tr>\n",
       "      <th>4</th>\n",
       "      <td>5</td>\n",
       "      <td>180</td>\n",
       "      <td>5</td>\n",
       "      <td>78</td>\n",
       "      <td>2</td>\n",
       "      <td>4</td>\n",
       "      <td>4</td>\n",
       "      <td>244</td>\n",
       "      <td>0</td>\n",
       "    </tr>\n",
       "    <tr>\n",
       "      <th>...</th>\n",
       "      <td>...</td>\n",
       "      <td>...</td>\n",
       "      <td>...</td>\n",
       "      <td>...</td>\n",
       "      <td>...</td>\n",
       "      <td>...</td>\n",
       "      <td>...</td>\n",
       "      <td>...</td>\n",
       "      <td>...</td>\n",
       "    </tr>\n",
       "    <tr>\n",
       "      <th>22620</th>\n",
       "      <td>22621</td>\n",
       "      <td>22</td>\n",
       "      <td>1</td>\n",
       "      <td>9</td>\n",
       "      <td>4</td>\n",
       "      <td>1</td>\n",
       "      <td>1</td>\n",
       "      <td>411</td>\n",
       "      <td>0</td>\n",
       "    </tr>\n",
       "    <tr>\n",
       "      <th>22621</th>\n",
       "      <td>22622</td>\n",
       "      <td>16</td>\n",
       "      <td>1</td>\n",
       "      <td>6</td>\n",
       "      <td>4</td>\n",
       "      <td>1</td>\n",
       "      <td>1</td>\n",
       "      <td>411</td>\n",
       "      <td>0</td>\n",
       "    </tr>\n",
       "    <tr>\n",
       "      <th>22622</th>\n",
       "      <td>22623</td>\n",
       "      <td>11</td>\n",
       "      <td>1</td>\n",
       "      <td>127</td>\n",
       "      <td>4</td>\n",
       "      <td>1</td>\n",
       "      <td>4</td>\n",
       "      <td>414</td>\n",
       "      <td>0</td>\n",
       "    </tr>\n",
       "    <tr>\n",
       "      <th>22623</th>\n",
       "      <td>22624</td>\n",
       "      <td>30</td>\n",
       "      <td>1</td>\n",
       "      <td>18</td>\n",
       "      <td>4</td>\n",
       "      <td>1</td>\n",
       "      <td>2</td>\n",
       "      <td>412</td>\n",
       "      <td>0</td>\n",
       "    </tr>\n",
       "    <tr>\n",
       "      <th>22624</th>\n",
       "      <td>22625</td>\n",
       "      <td>1</td>\n",
       "      <td>4</td>\n",
       "      <td>79</td>\n",
       "      <td>4</td>\n",
       "      <td>4</td>\n",
       "      <td>4</td>\n",
       "      <td>444</td>\n",
       "      <td>0</td>\n",
       "    </tr>\n",
       "  </tbody>\n",
       "</table>\n",
       "<p>22625 rows × 9 columns</p>\n",
       "</div>"
      ],
      "text/plain": [
       "       customer_id  recency  frequency  monetary  r_score  f_score  m_score  \\\n",
       "0                1      344          1        15        1        1        2   \n",
       "1                2      196          2        22        2        3        2   \n",
       "2                3      364          1        10        1        1        2   \n",
       "3                4       53          2        31        3        3        3   \n",
       "4                5      180          5        78        2        4        4   \n",
       "...            ...      ...        ...       ...      ...      ...      ...   \n",
       "22620        22621       22          1         9        4        1        1   \n",
       "22621        22622       16          1         6        4        1        1   \n",
       "22622        22623       11          1       127        4        1        4   \n",
       "22623        22624       30          1        18        4        1        2   \n",
       "22624        22625        1          4        79        4        4        4   \n",
       "\n",
       "      rfm_segment  cluster  \n",
       "0             112        2  \n",
       "1             232        2  \n",
       "2             112        2  \n",
       "3             333        0  \n",
       "4             244        0  \n",
       "...           ...      ...  \n",
       "22620         411        0  \n",
       "22621         411        0  \n",
       "22622         414        0  \n",
       "22623         412        0  \n",
       "22624         444        0  \n",
       "\n",
       "[22625 rows x 9 columns]"
      ]
     },
     "execution_count": 27,
     "metadata": {},
     "output_type": "execute_result"
    }
   ],
   "source": [
    "rfm"
   ]
  },
  {
   "cell_type": "code",
   "execution_count": 28,
   "id": "a7b26d10",
   "metadata": {},
   "outputs": [
    {
     "data": {
      "text/plain": [
       "<matplotlib.legend.Legend at 0x7f8332336410>"
      ]
     },
     "execution_count": 28,
     "metadata": {},
     "output_type": "execute_result"
    },
    {
     "data": {
      "image/png": "[encoded data removed]",
      "text/plain": [
       "<Figure size 1000x800 with 1 Axes>"
      ]
     },
     "metadata": {},
     "output_type": "display_data"
    }
   ],
   "source": [
    "# 3D scatter plot\n",
    "fig = plt.figure(figsize=(10, 8))\n",
    "ax = fig.add_subplot(111, projection='3d')\n",
    "\n",
    "# Color scheme for clusters\n",
    "colors = ['blue', 'green', 'red']\n",
    "\n",
    "# Plot data points\n",
    "for i in range(optimal_number_of_clusters):\n",
    "    ax.scatter(\n",
    "        rfm[rfm['cluster'] == i]['recency'],\n",
    "        rfm[rfm['cluster'] == i]['frequency'],\n",
    "        rfm[rfm['cluster'] == i]['monetary'],\n",
    "        c=colors[i],\n",
    "        label=f'Cluster {i}'\n",
    "    )\n",
    "\n",
    "# Set labels\n",
    "ax.set_xlabel('Recency')\n",
    "ax.set_ylabel('Frequency')\n",
    "ax.set_zlabel('Monetary')\n",
    "ax.set_title('3D Scatter Plot of RFM Clusters')\n",
    "\n",
    "# Legend\n",
    "ax.legend()"
   ]
  },
  {
   "cell_type": "markdown",
   "id": "c58df1d0",
   "metadata": {},
   "source": [
    "- Cluster 0 (blue): Customers with low recency and low to moderate monetary value. These might be lapsed or infrequent customers.\n",
    "- Cluster 1 (green): Customers with moderate recency and frequency but lower monetary value.\n",
    "- Cluster 2 (red): Customers who have not made recent purchases and have varying monetary values."
   ]
  },
  {
   "cell_type": "code",
   "execution_count": 29,
   "id": "b6b8203e",
   "metadata": {},
   "outputs": [
    {
     "data": {
      "text/html": [
       "<div>\n",
       "<style scoped>\n",
       "    .dataframe tbody tr th:only-of-type {\n",
       "        vertical-align: middle;\n",
       "    }\n",
       "\n",
       "    .dataframe tbody tr th {\n",
       "        vertical-align: top;\n",
       "    }\n",
       "\n",
       "    .dataframe thead tr th {\n",
       "        text-align: left;\n",
       "    }\n",
       "\n",
       "    .dataframe thead tr:last-of-type th {\n",
       "        text-align: right;\n",
       "    }\n",
       "</style>\n",
       "<table border=\"1\" class=\"dataframe\">\n",
       "  <thead>\n",
       "    <tr>\n",
       "      <th></th>\n",
       "      <th colspan=\"4\" halign=\"left\">recency</th>\n",
       "      <th colspan=\"4\" halign=\"left\">frequency</th>\n",
       "      <th colspan=\"4\" halign=\"left\">monetary</th>\n",
       "    </tr>\n",
       "    <tr>\n",
       "      <th></th>\n",
       "      <th>mean</th>\n",
       "      <th>median</th>\n",
       "      <th>min</th>\n",
       "      <th>max</th>\n",
       "      <th>mean</th>\n",
       "      <th>median</th>\n",
       "      <th>min</th>\n",
       "      <th>max</th>\n",
       "      <th>mean</th>\n",
       "      <th>median</th>\n",
       "      <th>min</th>\n",
       "      <th>max</th>\n",
       "    </tr>\n",
       "    <tr>\n",
       "      <th>cluster</th>\n",
       "      <th></th>\n",
       "      <th></th>\n",
       "      <th></th>\n",
       "      <th></th>\n",
       "      <th></th>\n",
       "      <th></th>\n",
       "      <th></th>\n",
       "      <th></th>\n",
       "      <th></th>\n",
       "      <th></th>\n",
       "      <th></th>\n",
       "      <th></th>\n",
       "    </tr>\n",
       "  </thead>\n",
       "  <tbody>\n",
       "    <tr>\n",
       "      <th>0</th>\n",
       "      <td>65.006126</td>\n",
       "      <td>57.0</td>\n",
       "      <td>1</td>\n",
       "      <td>199</td>\n",
       "      <td>2.766572</td>\n",
       "      <td>2.0</td>\n",
       "      <td>1</td>\n",
       "      <td>15</td>\n",
       "      <td>53.341410</td>\n",
       "      <td>28.0</td>\n",
       "      <td>0</td>\n",
       "      <td>544</td>\n",
       "    </tr>\n",
       "    <tr>\n",
       "      <th>1</th>\n",
       "      <td>38.852754</td>\n",
       "      <td>17.0</td>\n",
       "      <td>1</td>\n",
       "      <td>315</td>\n",
       "      <td>16.434322</td>\n",
       "      <td>15.0</td>\n",
       "      <td>2</td>\n",
       "      <td>99</td>\n",
       "      <td>573.460805</td>\n",
       "      <td>464.0</td>\n",
       "      <td>90</td>\n",
       "      <td>3920</td>\n",
       "    </tr>\n",
       "    <tr>\n",
       "      <th>2</th>\n",
       "      <td>271.467610</td>\n",
       "      <td>276.0</td>\n",
       "      <td>162</td>\n",
       "      <td>364</td>\n",
       "      <td>1.760052</td>\n",
       "      <td>1.0</td>\n",
       "      <td>1</td>\n",
       "      <td>13</td>\n",
       "      <td>36.337118</td>\n",
       "      <td>16.0</td>\n",
       "      <td>0</td>\n",
       "      <td>629</td>\n",
       "    </tr>\n",
       "  </tbody>\n",
       "</table>\n",
       "</div>"
      ],
      "text/plain": [
       "            recency                   frequency                   monetary  \\\n",
       "               mean median  min  max       mean median min max        mean   \n",
       "cluster                                                                      \n",
       "0         65.006126   57.0    1  199   2.766572    2.0   1  15   53.341410   \n",
       "1         38.852754   17.0    1  315  16.434322   15.0   2  99  573.460805   \n",
       "2        271.467610  276.0  162  364   1.760052    1.0   1  13   36.337118   \n",
       "\n",
       "                          \n",
       "        median min   max  \n",
       "cluster                   \n",
       "0         28.0   0   544  \n",
       "1        464.0  90  3920  \n",
       "2         16.0   0   629  "
      ]
     },
     "execution_count": 29,
     "metadata": {},
     "output_type": "execute_result"
    }
   ],
   "source": [
    "# Calculate descriptive statistics for each cluster\n",
    "cluster_stats = rfm.groupby('cluster').agg({\n",
    "    'recency': ['mean', 'median', 'min', 'max'],\n",
    "    'frequency': ['mean', 'median', 'min', 'max'],\n",
    "    'monetary': ['mean', 'median', 'min', 'max']\n",
    "})\n",
    "cluster_stats"
   ]
  },
  {
   "cell_type": "code",
   "execution_count": 30,
   "id": "e931af8d",
   "metadata": {},
   "outputs": [
    {
     "data": {
      "text/plain": [
       "array([[-0.83755346, -0.02331551, -0.0920789 ],\n",
       "       [-1.06419716,  3.39236661,  3.41517532],\n",
       "       [ 0.94662169, -0.27471726, -0.20669301]])"
      ]
     },
     "execution_count": 30,
     "metadata": {},
     "output_type": "execute_result"
    }
   ],
   "source": [
    "# Get the centroids for each cluster\n",
    "centroids = kmeans.cluster_centers_\n",
    "centroids"
   ]
  },
  {
   "cell_type": "markdown",
   "id": "9b45c1d8",
   "metadata": {},
   "source": [
    "- Cluster 0 Centroid: [-0.83755346, -0.02331551, -0.0920789 ]\n",
    "\n",
    "Could represent a segment of customers who are relatively recent and have an average purchase frequency and slightly lower spending. These might be \"everyday\" customers who make regular, smaller purchases.\n",
    "\n",
    "    - Recency: The negative value indicates that customers in this cluster have made purchases more recently than the average customer. The score is closer to zero than Cluster 2's positive value, which suggests they are not the most recent but still relatively recent.\n",
    "    - Frequency: The value is close to zero, which suggests that customers in this cluster buy as frequently as the average customer.\n",
    "    - Monetary: The slightly negative value suggests that customers in this cluster spend slightly less than the average customer.\n",
    "\n",
    "- Cluster 1 Centroid: [-1.06419716, 3.39236661, 3.41517532]\n",
    "\n",
    "Is likely your most valuable segment, with customers who have purchased very recently, do so very frequently, and spend a lot. These are your high-value, loyal customers.\n",
    "\n",
    "    - Recency: The most negative value of all clusters for recency indicates that these customers have made purchases more recently than those in the other two clusters.\n",
    "    - Frequency: The positive value, which is significantly higher than the other clusters, suggests that customers in this cluster make purchases much more frequently than the average customer.\n",
    "    - Monetary: The positive value, which is also significantly higher, indicates that customers in this cluster spend much more than the average customer.\n",
    "\n",
    "- Cluster 2 Centroid: [ 0.94662169, -0.27471726, -0.20669301]\n",
    "\n",
    "Could be at-risk or lapsed customers who haven't made recent purchases, don't buy frequently, and spend less.\n",
    "\n",
    "    - Recency: The positive value here is the highest among the three clusters, suggesting that these customers have not made purchases as recently as those in the other clusters.\n",
    "    - Frequency: The negative value, though not as low as Cluster 0, suggests these customers purchase less frequently than the average customer.\n",
    "    - Monetary: The negative value indicates that customers in this cluster spend less than the average customer."
   ]
  },
  {
   "cell_type": "markdown",
   "id": "4a81980c",
   "metadata": {},
   "source": [
    "## Calculating Customer Lifetime Value (CLV)"
   ]
  },
  {
   "cell_type": "code",
   "execution_count": null,
   "id": "aaa2d063",
   "metadata": {},
   "outputs": [],
   "source": [
    "# repeat rate = customer with at least 2 transactions / total customers number\n",
    "\n",
    "# count the number of transactions for each customer_id\n",
    "transaction_counts = merged_df.groupby('customer_id')['transaction_id'].nunique()\n",
    "\n",
    "# determine which customers have at least 2 transactions\n",
    "customer_two_trans = transaction_counts[transaction_counts >= 2].count()\n",
    "\n",
    "# total number of customers\n",
    "total_customers = merged_df['customer_id'].nunique()\n",
    "\n",
    "# repeat rate\n",
    "repeat_rate  = customer_two_trans / total_customers\n",
    "\n",
    "print(\"Repeat rate:\", repeat_rate)"
   ]
  },
  {
   "cell_type": "code",
   "execution_count": null,
   "id": "baa1a411",
   "metadata": {},
   "outputs": [],
   "source": [
    "# churn rate = 1 - repat_rate\n",
    "\n",
    "churn_rate = 1 - repeat_rate\n",
    "churn_rate"
   ]
  },
  {
   "cell_type": "code",
   "execution_count": null,
   "id": "87ecd38a",
   "metadata": {},
   "outputs": [],
   "source": [
    "# average customer lifespan (ACL) = 1 / churn rate\n",
    "\n",
    "acl = 1 / churn_rate\n",
    "acl"
   ]
  },
  {
   "cell_type": "code",
   "execution_count": null,
   "id": "d55e3756",
   "metadata": {},
   "outputs": [],
   "source": [
    "# average purchase frequency (APF) = total number of purchases / total customers number\n",
    "\n",
    "total_purchases = merged_df['transaction_id'].nunique()\n",
    "\n",
    "apf = total_purchases / total_customers\n",
    "apf"
   ]
  },
  {
   "cell_type": "code",
   "execution_count": null,
   "id": "b1f81547",
   "metadata": {},
   "outputs": [],
   "source": [
    "# Avg. Purchase Value (APV) = Total Revenue / Total Number of Purchases\n",
    "\n",
    "total_revenue = merged_df['sales_amount'].sum()\n",
    "\n",
    "apv = total_revenue / total_purchases\n",
    "apv"
   ]
  },
  {
   "cell_type": "code",
   "execution_count": null,
   "id": "05d5445e",
   "metadata": {},
   "outputs": [],
   "source": [
    "# customer lifetime value (CLV) = Avg. Purchase Value * Avg. Purchase Frequency * Avg. Customer Lifespan\n",
    "\n",
    "clv = apv * apf * acl\n",
    "clv"
   ]
  },
  {
   "cell_type": "code",
   "execution_count": null,
   "id": "b8932e05",
   "metadata": {},
   "outputs": [],
   "source": [
    "# calculate total revenue and number of purchases per customer\n",
    "\n",
    "customer_revenue = merged_df.groupby('customer_id')['sales_amount'].sum()\n",
    "\n",
    "# calculating the avg purchase value (apv) per customer_id\n",
    "\n",
    "customer_apv = customer_revenue / transaction_counts\n",
    "customer_apv.describe()"
   ]
  },
  {
   "cell_type": "code",
   "execution_count": null,
   "id": "28bae605",
   "metadata": {},
   "outputs": [],
   "source": [
    "# average customer lifespan\n",
    "# TO-DO check other approaches to customer lifespan\n",
    "customer_first_purchase = merged_df.groupby('customer_id')['date'].min()\n",
    "customer_last_purchase = merged_df.groupby('customer_id')['date'].max()\n",
    "customer_lifespan = (customer_last_purchase - customer_first_purchase).dt.days\n",
    "average_customer_lifespan = customer_lifespan.mean()\n",
    "average_customer_lifespan"
   ]
  },
  {
   "cell_type": "code",
   "execution_count": null,
   "id": "8539e077",
   "metadata": {},
   "outputs": [],
   "source": [
    "customer_lifespan.plot(kind='hist', bins=5)\n",
    "plt.show()"
   ]
  },
  {
   "cell_type": "code",
   "execution_count": null,
   "id": "c3474a15",
   "metadata": {},
   "outputs": [],
   "source": [
    "lifespan = customer_lifespan.to_frame(name='lifespan')\n",
    "lifespan = lifespan.reset_index()\n",
    "lifespan"
   ]
  },
  {
   "cell_type": "code",
   "execution_count": null,
   "id": "c62a9bcf",
   "metadata": {},
   "outputs": [],
   "source": [
    "sns.boxplot(data=lifespan['lifespan'])"
   ]
  },
  {
   "cell_type": "code",
   "execution_count": null,
   "id": "0404261e",
   "metadata": {},
   "outputs": [],
   "source": [
    "# lifepsan.to_csv('rfm2.csv', index=True)"
   ]
  },
  {
   "cell_type": "code",
   "execution_count": null,
   "id": "e75212aa",
   "metadata": {},
   "outputs": [],
   "source": [
    "# clv for each customer\n",
    "\n",
    "customer_clv = customer_apv * apf * average_customer_lifespan\n",
    "customer_clv.head()"
   ]
  },
  {
   "cell_type": "code",
   "execution_count": null,
   "id": "b5def282",
   "metadata": {},
   "outputs": [],
   "source": [
    "customer_clv_df = customer_clv.to_frame(name='clv')\n",
    "customer_clv_df"
   ]
  },
  {
   "cell_type": "code",
   "execution_count": null,
   "id": "64231a98",
   "metadata": {},
   "outputs": [],
   "source": [
    "customer_clv_df.reset_index()"
   ]
  },
  {
   "cell_type": "code",
   "execution_count": null,
   "id": "7f33c097",
   "metadata": {},
   "outputs": [],
   "source": [
    "# rfm.to_csv('rfm2.csv', index=True)"
   ]
  },
  {
   "cell_type": "code",
   "execution_count": null,
   "id": "3ba0cb0d",
   "metadata": {},
   "outputs": [],
   "source": [
    "segment_analysis.head(20)"
   ]
  },
  {
   "cell_type": "code",
   "execution_count": null,
   "id": "f4f37a1d",
   "metadata": {},
   "outputs": [],
   "source": [
    "# .to_csv('rfm1.csv', index=False)"
   ]
  },
  {
   "cell_type": "code",
   "execution_count": null,
   "id": "05b65003",
   "metadata": {},
   "outputs": [],
   "source": [
    "quantiles = [0.05, 0.25, 0.5, 0.75, 0.95]"
   ]
  },
  {
   "cell_type": "markdown",
   "id": "69681955-a777-40ff-891f-1a8a601c2e13",
   "metadata": {},
   "source": [
    "## Sales Analysis"
   ]
  },
  {
   "cell_type": "markdown",
   "id": "56b08662-20b5-4c40-8c60-fb372381ff51",
   "metadata": {},
   "source": [
    "#### What are the biggest countries in sales amount?"
   ]
  },
  {
   "cell_type": "code",
   "execution_count": 31,
   "id": "f538830b-2a3f-44c7-8c39-fd7db3edf1ab",
   "metadata": {},
   "outputs": [
    {
     "data": {
      "image/png": "[encoded data removed]",
      "text/plain": [
       "<Figure size 400x500 with 1 Axes>"
      ]
     },
     "metadata": {},
     "output_type": "display_data"
    }
   ],
   "source": [
    "ax = df['country'].value_counts(ascending=True, normalize=True) \\\n",
    "        .plot(kind='barh',\n",
    "              figsize=(4, 5))\n",
    "\n",
    "ax.set_ylabel('Country')\n",
    "ax.set_xlabel('% of sales')\n",
    "ax.set_title('Countries with highest sales')\n",
    "\n",
    "plt.show()"
   ]
  },
  {
   "cell_type": "markdown",
   "id": "32468065-20d8-4394-b097-aefb183b6e49",
   "metadata": {},
   "source": [
    "## Demographics"
   ]
  },
  {
   "cell_type": "markdown",
   "id": "0aba8513",
   "metadata": {},
   "source": [
    "### What is the distribution of sales between genders?"
   ]
  },
  {
   "cell_type": "code",
   "execution_count": 32,
   "id": "b0b42756-5b75-4880-b75a-53299fa30a3f",
   "metadata": {},
   "outputs": [
    {
     "data": {
      "text/plain": [
       "Text(0, 0.5, 'Gender')"
      ]
     },
     "execution_count": 32,
     "metadata": {},
     "output_type": "execute_result"
    },
    {
     "data": {
      "image/png": "[encoded data removed]",
      "text/plain": [
       "<Figure size 500x500 with 1 Axes>"
      ]
     },
     "metadata": {},
     "output_type": "display_data"
    }
   ],
   "source": [
    "ax = df.groupby('gender')['sales_amount'].sum() \\\n",
    "        .plot(kind='pie',\n",
    "              autopct='%.1f%%',\n",
    "              figsize=(5,5))\n",
    "\n",
    "ax.yaxis.set_major_formatter(mtick.PercentFormatter())\n",
    "ax.set_title('Gender Distribution')\n",
    "ax.set_ylabel('Gender')"
   ]
  },
  {
   "cell_type": "code",
   "execution_count": 47,
   "id": "bbdbe841",
   "metadata": {},
   "outputs": [],
   "source": [
    "new_merged_df = pd.merge(merged_df, rfm, how='inner', on='customer_id')\n",
    "new_merged_df = new_merged_df.drop(columns='id')"
   ]
  },
  {
   "cell_type": "code",
   "execution_count": 53,
   "id": "48defbb9",
   "metadata": {},
   "outputs": [
    {
     "data": {
      "image/png": "[encoded data removed]",
      "text/plain": [
       "<Figure size 640x480 with 1 Axes>"
      ]
     },
     "metadata": {},
     "output_type": "display_data"
    }
   ],
   "source": [
    "sns.boxplot(data=new_merged_df, x='cluster', y='age', hue='gender', palette='Set3')\n",
    "plt.title('Age Distribution within Each Cluster', fontsize=16)\n",
    "plt.xlabel('Cluster', fontsize=12)\n",
    "plt.ylabel('Age', fontsize=12)\n",
    "plt.legend(title='Gender', bbox_to_anchor=(1.05, 1), loc=2, borderaxespad=0.)\n",
    "\n",
    "# Show plot with improved formatting\n",
    "plt.tight_layout()\n",
    "plt.show()"
   ]
  },
  {
   "cell_type": "code",
   "execution_count": 52,
   "id": "69a11262",
   "metadata": {},
   "outputs": [
    {
     "data": {
      "image/png": "[encoded data removed]",
      "text/plain": [
       "<Figure size 1400x800 with 1 Axes>"
      ]
     },
     "metadata": {},
     "output_type": "display_data"
    }
   ],
   "source": [
    "plt.figure(figsize=(14,8))\n",
    "sns.boxplot(data=new_merged_df, x='cluster', y='age', hue='country', palette='Set3')\n",
    "plt.title('Age Distribution per Country within Each Cluster', fontsize=16)\n",
    "plt.xlabel('Cluster', fontsize=12)\n",
    "plt.ylabel('Age', fontsize=12)\n",
    "plt.legend(title='Country', bbox_to_anchor=(1.05, 1), loc=2, borderaxespad=0.)\n",
    "\n",
    "# Show plot with improved formatting\n",
    "plt.tight_layout()\n",
    "plt.show()"
   ]
  },
  {
   "cell_type": "code",
   "execution_count": 6,
   "metadata": {},
   "outputs": [
    {
     "data": {
      "text/html": [
       "<div>\n",
       "<style scoped>\n",
       "    .dataframe tbody tr th:only-of-type {\n",
       "        vertical-align: middle;\n",
       "    }\n",
       "\n",
       "    .dataframe tbody tr th {\n",
       "        vertical-align: top;\n",
       "    }\n",
       "\n",
       "    .dataframe thead th {\n",
       "        text-align: right;\n",
       "    }\n",
       "</style>\n",
       "<table border=\"1\" class=\"dataframe\">\n",
       "  <thead>\n",
       "    <tr style=\"text-align: right;\">\n",
       "      <th></th>\n",
       "      <th>country</th>\n",
       "      <th>quantity</th>\n",
       "      <th>sales_amount</th>\n",
       "    </tr>\n",
       "  </thead>\n",
       "  <tbody>\n",
       "    <tr>\n",
       "      <th>1</th>\n",
       "      <td>Germany</td>\n",
       "      <td>56274.227</td>\n",
       "      <td>459938.66</td>\n",
       "    </tr>\n",
       "    <tr>\n",
       "      <th>3</th>\n",
       "      <td>Italy</td>\n",
       "      <td>50714.712</td>\n",
       "      <td>410646.81</td>\n",
       "    </tr>\n",
       "    <tr>\n",
       "      <th>0</th>\n",
       "      <td>France</td>\n",
       "      <td>32621.360</td>\n",
       "      <td>259667.37</td>\n",
       "    </tr>\n",
       "    <tr>\n",
       "      <th>2</th>\n",
       "      <td>Greece</td>\n",
       "      <td>19370.000</td>\n",
       "      <td>151657.60</td>\n",
       "    </tr>\n",
       "    <tr>\n",
       "      <th>5</th>\n",
       "      <td>Spain</td>\n",
       "      <td>14783.990</td>\n",
       "      <td>119828.15</td>\n",
       "    </tr>\n",
       "    <tr>\n",
       "      <th>4</th>\n",
       "      <td>Netherlands</td>\n",
       "      <td>11407.590</td>\n",
       "      <td>92740.61</td>\n",
       "    </tr>\n",
       "    <tr>\n",
       "      <th>6</th>\n",
       "      <td>UK</td>\n",
       "      <td>10453.450</td>\n",
       "      <td>83559.42</td>\n",
       "    </tr>\n",
       "  </tbody>\n",
       "</table>\n",
       "</div>"
      ],
      "text/plain": [
       "       country   quantity  sales_amount\n",
       "1      Germany  56274.227     459938.66\n",
       "3        Italy  50714.712     410646.81\n",
       "0       France  32621.360     259667.37\n",
       "2       Greece  19370.000     151657.60\n",
       "5        Spain  14783.990     119828.15\n",
       "4  Netherlands  11407.590      92740.61\n",
       "6           UK  10453.450      83559.42"
      ]
     },
     "execution_count": 6,
     "metadata": {},
     "output_type": "execute_result"
    }
   ],
   "source": [
    "ax = df.groupby('country').agg({'quantity': 'sum',\n",
    "                                'sales_amount': 'sum'}).reset_index()\n",
    "                                        \n",
    "ax.sort_values(by='sales_amount', ascending=False).head(10)"
   ]
  },
  {
   "cell_type": "markdown",
   "id": "5babd5e1-5425-4132-a138-366a99dc5502",
   "metadata": {},
   "source": [
    "## Product Analysis"
   ]
  },
  {
   "cell_type": "markdown",
   "id": "69fb53fd-22a8-460a-8158-4d55ce76484f",
   "metadata": {},
   "source": [
    "### What are the most sold sku and sku category per country?"
   ]
  },
  {
   "cell_type": "markdown",
   "id": "eedd4c2b-393c-49f2-8125-bc2ba38d96c4",
   "metadata": {},
   "source": [
    "product analysis\n",
    "what are the most sold sku and sku category per country?\n",
    "what are the average value per sku and sku category, as well as the most and least valuable?\n",
    "are there any skus or categories that are underperforming?"
   ]
  },
  {
   "cell_type": "code",
   "execution_count": 30,
   "id": "80b53f29-f512-411f-900c-707db55e4c33",
   "metadata": {
    "scrolled": true
   },
   "outputs": [
    {
     "data": {
      "text/html": [
       "<div>\n",
       "<style scoped>\n",
       "    .dataframe tbody tr th:only-of-type {\n",
       "        vertical-align: middle;\n",
       "    }\n",
       "\n",
       "    .dataframe tbody tr th {\n",
       "        vertical-align: top;\n",
       "    }\n",
       "\n",
       "    .dataframe thead th {\n",
       "        text-align: right;\n",
       "    }\n",
       "</style>\n",
       "<table border=\"1\" class=\"dataframe\">\n",
       "  <thead>\n",
       "    <tr style=\"text-align: right;\">\n",
       "      <th></th>\n",
       "      <th>sku</th>\n",
       "      <th>quantity</th>\n",
       "      <th>sales_amount</th>\n",
       "    </tr>\n",
       "  </thead>\n",
       "  <tbody>\n",
       "    <tr>\n",
       "      <th>606</th>\n",
       "      <td>3YDVF</td>\n",
       "      <td>926.0</td>\n",
       "      <td>29419.35</td>\n",
       "    </tr>\n",
       "    <tr>\n",
       "      <th>3178</th>\n",
       "      <td>LJ26I</td>\n",
       "      <td>632.0</td>\n",
       "      <td>13571.45</td>\n",
       "    </tr>\n",
       "    <tr>\n",
       "      <th>2752</th>\n",
       "      <td>IRQZ4</td>\n",
       "      <td>321.0</td>\n",
       "      <td>11681.63</td>\n",
       "    </tr>\n",
       "    <tr>\n",
       "      <th>2071</th>\n",
       "      <td>DWJC4</td>\n",
       "      <td>823.0</td>\n",
       "      <td>10592.09</td>\n",
       "    </tr>\n",
       "    <tr>\n",
       "      <th>621</th>\n",
       "      <td>44RUE</td>\n",
       "      <td>218.0</td>\n",
       "      <td>8942.63</td>\n",
       "    </tr>\n",
       "  </tbody>\n",
       "</table>\n",
       "</div>"
      ],
      "text/plain": [
       "        sku  quantity  sales_amount\n",
       "606   3YDVF     926.0      29419.35\n",
       "3178  LJ26I     632.0      13571.45\n",
       "2752  IRQZ4     321.0      11681.63\n",
       "2071  DWJC4     823.0      10592.09\n",
       "621   44RUE     218.0       8942.63"
      ]
     },
     "execution_count": 30,
     "metadata": {},
     "output_type": "execute_result"
    }
   ],
   "source": [
    "sku_agg = df.groupby('sku').agg({'quantity': 'sum',\n",
    "                                'sales_amount': 'sum'}).reset_index()\n",
    "                                        \n",
    "sku_agg.sort_values(by='sales_amount', ascending=False).head(5)"
   ]
  },
  {
   "cell_type": "code",
   "execution_count": 31,
   "metadata": {},
   "outputs": [
    {
     "data": {
      "text/html": [
       "<div>\n",
       "<style scoped>\n",
       "    .dataframe tbody tr th:only-of-type {\n",
       "        vertical-align: middle;\n",
       "    }\n",
       "\n",
       "    .dataframe tbody tr th {\n",
       "        vertical-align: top;\n",
       "    }\n",
       "\n",
       "    .dataframe thead th {\n",
       "        text-align: right;\n",
       "    }\n",
       "</style>\n",
       "<table border=\"1\" class=\"dataframe\">\n",
       "  <thead>\n",
       "    <tr style=\"text-align: right;\">\n",
       "      <th></th>\n",
       "      <th>sku_category</th>\n",
       "      <th>quantity</th>\n",
       "      <th>sales_amount</th>\n",
       "    </tr>\n",
       "  </thead>\n",
       "  <tbody>\n",
       "    <tr>\n",
       "      <th>30</th>\n",
       "      <td>6BZ</td>\n",
       "      <td>2833.660</td>\n",
       "      <td>114061.33</td>\n",
       "    </tr>\n",
       "    <tr>\n",
       "      <th>155</th>\n",
       "      <td>SJS</td>\n",
       "      <td>2883.330</td>\n",
       "      <td>85142.31</td>\n",
       "    </tr>\n",
       "    <tr>\n",
       "      <th>106</th>\n",
       "      <td>LPF</td>\n",
       "      <td>8210.043</td>\n",
       "      <td>84921.91</td>\n",
       "    </tr>\n",
       "    <tr>\n",
       "      <th>131</th>\n",
       "      <td>OXH</td>\n",
       "      <td>3884.670</td>\n",
       "      <td>54470.16</td>\n",
       "    </tr>\n",
       "    <tr>\n",
       "      <th>119</th>\n",
       "      <td>N8U</td>\n",
       "      <td>12148.000</td>\n",
       "      <td>49119.55</td>\n",
       "    </tr>\n",
       "  </tbody>\n",
       "</table>\n",
       "</div>"
      ],
      "text/plain": [
       "    sku_category   quantity  sales_amount\n",
       "30           6BZ   2833.660     114061.33\n",
       "155          SJS   2883.330      85142.31\n",
       "106          LPF   8210.043      84921.91\n",
       "131          OXH   3884.670      54470.16\n",
       "119          N8U  12148.000      49119.55"
      ]
     },
     "execution_count": 31,
     "metadata": {},
     "output_type": "execute_result"
    }
   ],
   "source": [
    "sku_cat_agg = df.groupby('sku_category').agg({'quantity': 'sum',\n",
    "                                        'sales_amount': 'sum'}).reset_index()\n",
    "sku_cat_agg.sort_values(by='sales_amount', ascending=False).head(5)"
   ]
  },
  {
   "cell_type": "code",
   "execution_count": 32,
   "metadata": {},
   "outputs": [
    {
     "data": {
      "text/html": [
       "<div>\n",
       "<style scoped>\n",
       "    .dataframe tbody tr th:only-of-type {\n",
       "        vertical-align: middle;\n",
       "    }\n",
       "\n",
       "    .dataframe tbody tr th {\n",
       "        vertical-align: top;\n",
       "    }\n",
       "\n",
       "    .dataframe thead th {\n",
       "        text-align: right;\n",
       "    }\n",
       "</style>\n",
       "<table border=\"1\" class=\"dataframe\">\n",
       "  <thead>\n",
       "    <tr style=\"text-align: right;\">\n",
       "      <th></th>\n",
       "      <th>sku_category</th>\n",
       "      <th>sales_amount</th>\n",
       "      <th>sales_tier</th>\n",
       "    </tr>\n",
       "  </thead>\n",
       "  <tbody>\n",
       "    <tr>\n",
       "      <th>0</th>\n",
       "      <td>01F</td>\n",
       "      <td>38029.87</td>\n",
       "      <td>9</td>\n",
       "    </tr>\n",
       "    <tr>\n",
       "      <th>1</th>\n",
       "      <td>06Z</td>\n",
       "      <td>8619.17</td>\n",
       "      <td>7</td>\n",
       "    </tr>\n",
       "    <tr>\n",
       "      <th>2</th>\n",
       "      <td>0H2</td>\n",
       "      <td>29875.14</td>\n",
       "      <td>9</td>\n",
       "    </tr>\n",
       "    <tr>\n",
       "      <th>3</th>\n",
       "      <td>0KX</td>\n",
       "      <td>2044.45</td>\n",
       "      <td>4</td>\n",
       "    </tr>\n",
       "    <tr>\n",
       "      <th>4</th>\n",
       "      <td>0WT</td>\n",
       "      <td>4052.49</td>\n",
       "      <td>6</td>\n",
       "    </tr>\n",
       "  </tbody>\n",
       "</table>\n",
       "</div>"
      ],
      "text/plain": [
       "  sku_category  sales_amount  sales_tier\n",
       "0          01F      38029.87           9\n",
       "1          06Z       8619.17           7\n",
       "2          0H2      29875.14           9\n",
       "3          0KX       2044.45           4\n",
       "4          0WT       4052.49           6"
      ]
     },
     "execution_count": 32,
     "metadata": {},
     "output_type": "execute_result"
    }
   ],
   "source": [
    "# applying tiers from 0 (lowest) to 9 (highest) to sku_category\n",
    "\n",
    "sku_category_sales = df.groupby('sku_category')['sales_amount'].sum().reset_index()\n",
    "sku_category_sales['sales_tier'] = pd.qcut(sku_category_sales['sales_amount'], q=10, labels=False)\n",
    "sku_category_sales.head(5)"
   ]
  },
  {
   "cell_type": "code",
   "execution_count": 33,
   "metadata": {},
   "outputs": [
    {
     "data": {
      "text/html": [
       "<div>\n",
       "<style scoped>\n",
       "    .dataframe tbody tr th:only-of-type {\n",
       "        vertical-align: middle;\n",
       "    }\n",
       "\n",
       "    .dataframe tbody tr th {\n",
       "        vertical-align: top;\n",
       "    }\n",
       "\n",
       "    .dataframe thead th {\n",
       "        text-align: right;\n",
       "    }\n",
       "</style>\n",
       "<table border=\"1\" class=\"dataframe\">\n",
       "  <thead>\n",
       "    <tr style=\"text-align: right;\">\n",
       "      <th></th>\n",
       "      <th>customer_id</th>\n",
       "      <th>sales_amount</th>\n",
       "      <th>customer_tier</th>\n",
       "    </tr>\n",
       "  </thead>\n",
       "  <tbody>\n",
       "    <tr>\n",
       "      <th>0</th>\n",
       "      <td>1</td>\n",
       "      <td>16.29</td>\n",
       "      <td>3</td>\n",
       "    </tr>\n",
       "    <tr>\n",
       "      <th>1</th>\n",
       "      <td>2</td>\n",
       "      <td>22.77</td>\n",
       "      <td>4</td>\n",
       "    </tr>\n",
       "    <tr>\n",
       "      <th>2</th>\n",
       "      <td>3</td>\n",
       "      <td>10.92</td>\n",
       "      <td>2</td>\n",
       "    </tr>\n",
       "    <tr>\n",
       "      <th>3</th>\n",
       "      <td>4</td>\n",
       "      <td>33.29</td>\n",
       "      <td>5</td>\n",
       "    </tr>\n",
       "    <tr>\n",
       "      <th>4</th>\n",
       "      <td>5</td>\n",
       "      <td>78.82</td>\n",
       "      <td>7</td>\n",
       "    </tr>\n",
       "  </tbody>\n",
       "</table>\n",
       "</div>"
      ],
      "text/plain": [
       "   customer_id  sales_amount  customer_tier\n",
       "0            1         16.29              3\n",
       "1            2         22.77              4\n",
       "2            3         10.92              2\n",
       "3            4         33.29              5\n",
       "4            5         78.82              7"
      ]
     },
     "execution_count": 33,
     "metadata": {},
     "output_type": "execute_result"
    }
   ],
   "source": [
    "customer_sales = df.groupby('customer_id')['sales_amount'].sum().reset_index()\n",
    "customer_sales['customer_tier'] = pd.qcut(customer_sales['sales_amount'], q=10, labels=False)\n",
    "customer_sales.head(5)"
   ]
  }
 ],
 "metadata": {
  "kernelspec": {
   "display_name": "Python 3 (ipykernel)",
   "language": "python",
   "name": "python3"
  },
  "language_info": {
   "codemirror_mode": {
    "name": "ipython",
    "version": 3
   },
   "file_extension": ".py",
   "mimetype": "text/x-python",
   "name": "python",
   "nbconvert_exporter": "python",
   "pygments_lexer": "ipython3",
   "version": "3.10.13"
  }
 },
 "nbformat": 4,
 "nbformat_minor": 5
}
